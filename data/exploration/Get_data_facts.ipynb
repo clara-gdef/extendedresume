{
 "cells": [
  {
   "cell_type": "code",
   "execution_count": 31,
   "metadata": {},
   "outputs": [],
   "source": [
    "import argparse\n",
    "import os\n",
    "import json\n",
    "import pickle as pkl\n",
    "from tqdm import tqdm\n",
    "import itertools\n",
    "import numpy as np\n",
    "import yaml\n",
    "from collections import Counter\n",
    "import ipdb\n",
    "import fastText"
   ]
  },
  {
   "cell_type": "code",
   "execution_count": 3,
   "metadata": {},
   "outputs": [],
   "source": [
    "global CFG\n",
    "with open(\"../../config.yaml\", \"r\") as ymlfile:\n",
    "    CFG = yaml.load(ymlfile, Loader=yaml.SafeLoader)"
   ]
  },
  {
   "cell_type": "code",
   "execution_count": 4,
   "metadata": {},
   "outputs": [],
   "source": [
    "counter_edu = Counter()\n",
    "all_edu = []\n",
    "counter_jobs = Counter()\n",
    "all_jobs = []"
   ]
  },
  {
   "cell_type": "code",
   "execution_count": 6,
   "metadata": {},
   "outputs": [],
   "source": [
    "base_file = \"flat_profiles_dataset_\"\n",
    "sets = [\"TRAIN2\", \"VALID2\", \"TEST2\"]\n",
    "#types = [\"pt\", \"fs\", \"elmo\"]\n",
    "data = {}"
   ]
  },
  {
   "cell_type": "code",
   "execution_count": 10,
   "metadata": {},
   "outputs": [],
   "source": [
    "for item in sets:\n",
    "    input_file = os.path.join(CFG[\"gpudatadir\"], f\"{base_file}{item}.pkl\")\n",
    "    with open(input_file, 'rb') as f:\n",
    "        data[item] = pkl.load(f)"
   ]
  },
  {
   "cell_type": "code",
   "execution_count": 14,
   "metadata": {},
   "outputs": [
    {
     "data": {
      "text/plain": [
       "162339"
      ]
     },
     "execution_count": 14,
     "metadata": {},
     "output_type": "execute_result"
    }
   ],
   "source": [
    "len(data[\"VALID2\"][\"tuples\"])"
   ]
  },
  {
   "cell_type": "code",
   "execution_count": null,
   "metadata": {},
   "outputs": [],
   "source": [
    "print(str(np.percentile(all_edu, 90))) # 4\n",
    "print(str(np.percentile(all_jobs, 90))) # 8"
   ]
  },
  {
   "cell_type": "code",
   "execution_count": 15,
   "metadata": {},
   "outputs": [],
   "source": [
    "tmp = data[\"VALID2\"][\"tuples\"]"
   ]
  },
  {
   "cell_type": "code",
   "execution_count": 30,
   "metadata": {},
   "outputs": [
    {
     "data": {
      "text/plain": [
       "{'id': 850890,\n",
       " 'jobs': array([[-0.00327824,  0.00275128, -0.00173075, ..., -0.00157499,\n",
       "         -0.00253854,  0.00595773],\n",
       "        [-0.00572193,  0.00260963, -0.00474669, ..., -0.00140623,\n",
       "         -0.00207732,  0.00867287],\n",
       "        [-0.00386683,  0.00364392, -0.00311384, ...,  0.00032028,\n",
       "         -0.00198413,  0.00529581],\n",
       "        ...,\n",
       "        [-0.00541412,  0.00185743, -0.01012169, ..., -0.00348389,\n",
       "         -0.00170738,  0.01177316],\n",
       "        [-0.00633524,  0.00412266, -0.00751972, ..., -0.00427662,\n",
       "         -0.00086853,  0.00982279],\n",
       "        [-0.00252706,  0.00128731, -0.00160153, ..., -0.00091149,\n",
       "         -0.00135629,  0.0057352 ]]),\n",
       " 'skills': [66],\n",
       " 'edu_fs': array([[0., 0., 0., ..., 0., 0., 0.],\n",
       "        [0., 0., 0., ..., 0., 0., 0.],\n",
       "        [0., 0., 0., ..., 0., 0., 0.],\n",
       "        [0., 0., 0., ..., 0., 0., 0.]]),\n",
       " 'edu_pt': array([[0., 0., 0., ..., 0., 0., 0.],\n",
       "        [0., 0., 0., ..., 0., 0., 0.],\n",
       "        [0., 0., 0., ..., 0., 0., 0.],\n",
       "        [0., 0., 0., ..., 0., 0., 0.]]),\n",
       " 'ind': 16}"
      ]
     },
     "execution_count": 30,
     "metadata": {},
     "output_type": "execute_result"
    }
   ],
   "source": [
    "person"
   ]
  },
  {
   "cell_type": "code",
   "execution_count": 37,
   "metadata": {},
   "outputs": [
    {
     "name": "stderr",
     "output_type": "stream",
     "text": [
      "100%|██████████| 487649/487649 [04:38<00:00, 1753.60it/s]\n",
      "  0%|          | 343/162339 [00:00<01:34, 1723.17it/s]"
     ]
    },
    {
     "name": "stdout",
     "output_type": "stream",
     "text": [
      "TRAIN2 2697404\n"
     ]
    },
    {
     "name": "stderr",
     "output_type": "stream",
     "text": [
      "100%|██████████| 162339/162339 [01:34<00:00, 1724.89it/s]\n",
      "  0%|          | 180/162317 [00:00<01:30, 1792.26it/s]"
     ]
    },
    {
     "name": "stdout",
     "output_type": "stream",
     "text": [
      "VALID2 897709\n"
     ]
    },
    {
     "name": "stderr",
     "output_type": "stream",
     "text": [
      "100%|██████████| 162317/162317 [01:32<00:00, 1759.93it/s]"
     ]
    },
    {
     "name": "stdout",
     "output_type": "stream",
     "text": [
      "TEST2 898038\n"
     ]
    },
    {
     "name": "stderr",
     "output_type": "stream",
     "text": [
      "\n"
     ]
    }
   ],
   "source": [
    "for item in sets:\n",
    "    job_counter = 0\n",
    "    for person in tqdm(data[item][\"tuples\"]):\n",
    "        if person[\"jobs\"].sum() == 0.0:\n",
    "            ipdb.set_trace()\n",
    "        for j in person[\"jobs\"]:\n",
    "            if max(j) > 0 and min(j) < 0:\n",
    "                job_counter +=1\n",
    "    print(f\"{item} {job_counter}\")\n",
    "    "
   ]
  },
  {
   "cell_type": "code",
   "execution_count": 32,
   "metadata": {},
   "outputs": [
    {
     "name": "stderr",
     "output_type": "stream",
     "text": [
      "100%|██████████| 487649/487649 [00:00<00:00, 709718.17it/s]\n",
      " 45%|████▌     | 73499/162339 [00:00<00:00, 734983.69it/s]"
     ]
    },
    {
     "name": "stdout",
     "output_type": "stream",
     "text": [
      "TRAIN2 487649\n"
     ]
    },
    {
     "name": "stderr",
     "output_type": "stream",
     "text": [
      "100%|██████████| 162339/162339 [00:00<00:00, 712240.55it/s]\n",
      " 84%|████████▍ | 137030/162317 [00:00<00:00, 688332.15it/s]"
     ]
    },
    {
     "name": "stdout",
     "output_type": "stream",
     "text": [
      "VALID2 162339\n"
     ]
    },
    {
     "name": "stderr",
     "output_type": "stream",
     "text": [
      "\r",
      "100%|██████████| 162317/162317 [00:00<00:00, 690600.94it/s]"
     ]
    },
    {
     "name": "stdout",
     "output_type": "stream",
     "text": [
      "TEST2 162317\n"
     ]
    },
    {
     "name": "stderr",
     "output_type": "stream",
     "text": [
      "\n"
     ]
    }
   ],
   "source": [
    "for item in sets:\n",
    "    id_counter = Counter()\n",
    "    for person in tqdm(data[item][\"tuples\"]):\n",
    "        id_counter[person[\"id\"]] += 1\n",
    "    print(f\"{item} {len(id_counter)}\")\n",
    "    "
   ]
  },
  {
   "cell_type": "code",
   "execution_count": 36,
   "metadata": {},
   "outputs": [
    {
     "name": "stdout",
     "output_type": "stream",
     "text": [
      "True\n",
      "True\n",
      "True\n",
      "True\n",
      "True\n",
      "True\n",
      "True\n",
      "True\n"
     ]
    }
   ],
   "source": [
    "for j in person[\"jobs\"]:\n",
    "            print(max(j) > 0 and min(j) < 0)"
   ]
  },
  {
   "cell_type": "code",
   "execution_count": null,
   "metadata": {},
   "outputs": [],
   "source": []
  }
 ],
 "metadata": {
  "kernelspec": {
   "display_name": "cuda10",
   "language": "python",
   "name": "cuda10"
  },
  "language_info": {
   "codemirror_mode": {
    "name": "ipython",
    "version": 3
   },
   "file_extension": ".py",
   "mimetype": "text/x-python",
   "name": "python",
   "nbconvert_exporter": "python",
   "pygments_lexer": "ipython3",
   "version": "3.7.2"
  }
 },
 "nbformat": 4,
 "nbformat_minor": 4
}
