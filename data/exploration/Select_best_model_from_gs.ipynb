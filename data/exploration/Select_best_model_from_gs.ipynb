{
 "cells": [
  {
   "cell_type": "code",
   "execution_count": 2,
   "metadata": {},
   "outputs": [],
   "source": [
    "import yaml\n",
    "import pickle as pkl\n",
    "import os"
   ]
  },
  {
   "cell_type": "code",
   "execution_count": 3,
   "metadata": {},
   "outputs": [],
   "source": [
    "global CFG\n",
    "with open(\"../../config.yaml\", \"r\") as ymlfile:\n",
    "    CFG = yaml.load(ymlfile, Loader=yaml.SafeLoader)"
   ]
  },
  {
   "cell_type": "code",
   "execution_count": 7,
   "metadata": {},
   "outputs": [],
   "source": [
    "res_path = os.path.join(CFG[\"datadir\"], \"EVAL_gs_e2e_atn_topK.pkl\")\n",
    "with open(res_path, 'rb') as f:\n",
    "    res = pkl.load(f)"
   ]
  },
  {
   "cell_type": "code",
   "execution_count": 8,
   "metadata": {},
   "outputs": [
    {
     "data": {
      "text/plain": [
       "{0.1: {16: [{'ind': {'acc_ind': 5.8999999999999995,\n",
       "     'precision_ind': 0.7918645140867363,\n",
       "     'recall_ind': 5.8999999999999995,\n",
       "     'f1_ind': 0.9434500648508432},\n",
       "    'ind_@10': {'acc_ind': 31.0,\n",
       "     'precision_ind': 34.78672161172161,\n",
       "     'recall_ind': 31.0,\n",
       "     'f1_ind': 27.80122624023098},\n",
       "    0.0: {'acc_skills': 0.0,\n",
       "     'precision_skills': 8.426173604960141,\n",
       "     'recall_skills': 100.0,\n",
       "     'f1_skills': 14.173399410889747},\n",
       "    0.1: {'acc_skills': 12.1,\n",
       "     'precision_skills': 0.0,\n",
       "     'recall_skills': 0.0,\n",
       "     'f1_skills': 0.0},\n",
       "    0.2: {'acc_skills': 12.1,\n",
       "     'precision_skills': 0.0,\n",
       "     'recall_skills': 0.0,\n",
       "     'f1_skills': 0.0},\n",
       "    0.3: {'acc_skills': 12.1,\n",
       "     'precision_skills': 0.0,\n",
       "     'recall_skills': 0.0,\n",
       "     'f1_skills': 0.0},\n",
       "    0.4: {'acc_skills': 12.1,\n",
       "     'precision_skills': 0.0,\n",
       "     'recall_skills': 0.0,\n",
       "     'f1_skills': 0.0},\n",
       "    0.6: {'acc_skills': 12.1,\n",
       "     'precision_skills': 0.0,\n",
       "     'recall_skills': 0.0,\n",
       "     'f1_skills': 0.0},\n",
       "    0.7: {'acc_skills': 12.1,\n",
       "     'precision_skills': 0.0,\n",
       "     'recall_skills': 0.0,\n",
       "     'f1_skills': 0.0},\n",
       "    0.8: {'acc_skills': 12.1,\n",
       "     'precision_skills': 0.0,\n",
       "     'recall_skills': 0.0,\n",
       "     'f1_skills': 0.0},\n",
       "    0.9: {'acc_skills': 12.1,\n",
       "     'precision_skills': 0.0,\n",
       "     'recall_skills': 0.0,\n",
       "     'f1_skills': 0.0},\n",
       "    1.0: {'acc_skills': 12.1,\n",
       "     'precision_skills': 0.0,\n",
       "     'recall_skills': 0.0,\n",
       "     'f1_skills': 0.0}}],\n",
       "  64: [{'ind': {'acc_ind': 4.6,\n",
       "     'precision_ind': 0.21160000000000004,\n",
       "     'recall_ind': 4.6,\n",
       "     'f1_ind': 0.4045889101338432},\n",
       "    'ind_@10': {'acc_ind': 27.500000000000004,\n",
       "     'precision_ind': 23.174448767833983,\n",
       "     'recall_ind': 27.500000000000004,\n",
       "     'f1_ind': 23.417992656058754},\n",
       "    0.0: {'acc_skills': 0.0,\n",
       "     'precision_skills': 8.22224319822321,\n",
       "     'recall_skills': 100.0,\n",
       "     'f1_skills': 13.86739043777519},\n",
       "    0.1: {'acc_skills': 14.2,\n",
       "     'precision_skills': 0.0,\n",
       "     'recall_skills': 0.0,\n",
       "     'f1_skills': 0.0},\n",
       "    0.2: {'acc_skills': 14.2,\n",
       "     'precision_skills': 0.0,\n",
       "     'recall_skills': 0.0,\n",
       "     'f1_skills': 0.0},\n",
       "    0.3: {'acc_skills': 14.2,\n",
       "     'precision_skills': 0.0,\n",
       "     'recall_skills': 0.0,\n",
       "     'f1_skills': 0.0},\n",
       "    0.4: {'acc_skills': 14.2,\n",
       "     'precision_skills': 0.0,\n",
       "     'recall_skills': 0.0,\n",
       "     'f1_skills': 0.0},\n",
       "    0.6: {'acc_skills': 14.2,\n",
       "     'precision_skills': 0.0,\n",
       "     'recall_skills': 0.0,\n",
       "     'f1_skills': 0.0},\n",
       "    0.7: {'acc_skills': 14.2,\n",
       "     'precision_skills': 0.0,\n",
       "     'recall_skills': 0.0,\n",
       "     'f1_skills': 0.0},\n",
       "    0.8: {'acc_skills': 14.2,\n",
       "     'precision_skills': 0.0,\n",
       "     'recall_skills': 0.0,\n",
       "     'f1_skills': 0.0},\n",
       "    0.9: {'acc_skills': 14.2,\n",
       "     'precision_skills': 0.0,\n",
       "     'recall_skills': 0.0,\n",
       "     'f1_skills': 0.0},\n",
       "    1.0: {'acc_skills': 14.2,\n",
       "     'precision_skills': 0.0,\n",
       "     'recall_skills': 0.0,\n",
       "     'f1_skills': 0.0}}],\n",
       "  512: [{'ind': {'acc_ind': 5.1,\n",
       "     'precision_ind': 0.2601,\n",
       "     'recall_ind': 5.1,\n",
       "     'f1_ind': 0.49495718363463365},\n",
       "    'ind_@10': {'acc_ind': 30.0,\n",
       "     'precision_ind': 25.246338215712385,\n",
       "     'recall_ind': 30.0,\n",
       "     'f1_ind': 25.548628428927678},\n",
       "    0.0: {'acc_skills': 0.0,\n",
       "     'precision_skills': 8.005002193944714,\n",
       "     'recall_skills': 100.0,\n",
       "     'f1_skills': 13.473361980433177},\n",
       "    0.1: {'acc_skills': 14.299999999999999,\n",
       "     'precision_skills': 0.0,\n",
       "     'recall_skills': 0.0,\n",
       "     'f1_skills': 0.0},\n",
       "    0.2: {'acc_skills': 14.299999999999999,\n",
       "     'precision_skills': 0.0,\n",
       "     'recall_skills': 0.0,\n",
       "     'f1_skills': 0.0},\n",
       "    0.3: {'acc_skills': 14.299999999999999,\n",
       "     'precision_skills': 0.0,\n",
       "     'recall_skills': 0.0,\n",
       "     'f1_skills': 0.0},\n",
       "    0.4: {'acc_skills': 14.299999999999999,\n",
       "     'precision_skills': 0.0,\n",
       "     'recall_skills': 0.0,\n",
       "     'f1_skills': 0.0},\n",
       "    0.6: {'acc_skills': 14.299999999999999,\n",
       "     'precision_skills': 0.0,\n",
       "     'recall_skills': 0.0,\n",
       "     'f1_skills': 0.0},\n",
       "    0.7: {'acc_skills': 14.299999999999999,\n",
       "     'precision_skills': 0.0,\n",
       "     'recall_skills': 0.0,\n",
       "     'f1_skills': 0.0},\n",
       "    0.8: {'acc_skills': 14.299999999999999,\n",
       "     'precision_skills': 0.0,\n",
       "     'recall_skills': 0.0,\n",
       "     'f1_skills': 0.0},\n",
       "    0.9: {'acc_skills': 14.299999999999999,\n",
       "     'precision_skills': 0.0,\n",
       "     'recall_skills': 0.0,\n",
       "     'f1_skills': 0.0},\n",
       "    1.0: {'acc_skills': 14.299999999999999,\n",
       "     'precision_skills': 0.0,\n",
       "     'recall_skills': 0.0,\n",
       "     'f1_skills': 0.0}}]}}"
      ]
     },
     "execution_count": 8,
     "metadata": {},
     "output_type": "execute_result"
    }
   ],
   "source": [
    "res"
   ]
  },
  {
   "cell_type": "code",
   "execution_count": 15,
   "metadata": {},
   "outputs": [],
   "source": [
    "ind_results= []\n",
    "for lr in res.keys():\n",
    "    for bs in res[lr].keys():\n",
    "        ind_results.append(res[lr][bs][0][\"ind\"])"
   ]
  },
  {
   "cell_type": "code",
   "execution_count": 16,
   "metadata": {},
   "outputs": [
    {
     "data": {
      "text/plain": [
       "[{'acc_ind': 5.8999999999999995,\n",
       "  'precision_ind': 0.7918645140867363,\n",
       "  'recall_ind': 5.8999999999999995,\n",
       "  'f1_ind': 0.9434500648508432},\n",
       " {'acc_ind': 4.6,\n",
       "  'precision_ind': 0.21160000000000004,\n",
       "  'recall_ind': 4.6,\n",
       "  'f1_ind': 0.4045889101338432},\n",
       " {'acc_ind': 5.1,\n",
       "  'precision_ind': 0.2601,\n",
       "  'recall_ind': 5.1,\n",
       "  'f1_ind': 0.49495718363463365}]"
      ]
     },
     "execution_count": 16,
     "metadata": {},
     "output_type": "execute_result"
    }
   ],
   "source": [
    "ind_results"
   ]
  },
  {
   "cell_type": "code",
   "execution_count": null,
   "metadata": {},
   "outputs": [],
   "source": []
  }
 ],
 "metadata": {
  "kernelspec": {
   "display_name": "cuda10",
   "language": "python",
   "name": "cuda10"
  },
  "language_info": {
   "codemirror_mode": {
    "name": "ipython",
    "version": 3
   },
   "file_extension": ".py",
   "mimetype": "text/x-python",
   "name": "python",
   "nbconvert_exporter": "python",
   "pygments_lexer": "ipython3",
   "version": "3.7.2"
  }
 },
 "nbformat": 4,
 "nbformat_minor": 4
}
